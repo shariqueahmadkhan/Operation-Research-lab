{
  "nbformat": 4,
  "nbformat_minor": 0,
  "metadata": {
    "colab": {
      "name": "EXP 11",
      "provenance": [],
      "authorship_tag": "ABX9TyOpa7ZsB/6zfjr5ZCXgI+C1",
      "include_colab_link": true
    },
    "kernelspec": {
      "name": "python3",
      "display_name": "Python 3"
    },
    "language_info": {
      "name": "python"
    }
  },
  "cells": [
    {
      "cell_type": "markdown",
      "metadata": {
        "id": "view-in-github",
        "colab_type": "text"
      },
      "source": [
        "<a href=\"https://colab.research.google.com/github/shariqueahmadkhan/Operation-Research-lab/blob/main/EXP_11.ipynb\" target=\"_parent\"><img src=\"https://colab.research.google.com/assets/colab-badge.svg\" alt=\"Open In Colab\"/></a>"
      ]
    },
    {
      "cell_type": "code",
      "execution_count": 1,
      "metadata": {
        "id": "BZkFY-H0AFgE"
      },
      "outputs": [],
      "source": [
        "import numpy as np\n",
        "from scipy.optimize import linear_sum_assignment"
      ]
    },
    {
      "cell_type": "markdown",
      "source": [
        "QUESTION 1\n",
        "A computer center has three expert programmers. The center wants three application programs to be developed. The head of the computer center, after studying carefully the programmers to be deployed, estimates the computer time in minutes required by the experts for the application programmers as follows:\n",
        "\n",
        "A\tB\tC\n",
        "1\t120\t100\t80\n",
        "2\t80\t90\t110\n",
        "3\t110\t140\t120\n"
      ],
      "metadata": {
        "id": "h5MoF8KjAYOv"
      }
    },
    {
      "cell_type": "code",
      "source": [
        "cost_matrix = np.array([[120, 100, 80], [80, 90, 110], [110, 140, 120]])\n",
        "row_ind, col_ind = linear_sum_assignment(cost_matrix)\n",
        "opt_ass = col_ind\n",
        "tc = cost_matrix[row_ind, col_ind].sum()\n",
        "print('Total assignment cost is %d' %tc)"
      ],
      "metadata": {
        "colab": {
          "base_uri": "https://localhost:8080/"
        },
        "id": "ZQrxlG1NARXR",
        "outputId": "f18534dd-c275-449b-8871-71d1fff0ed42"
      },
      "execution_count": 2,
      "outputs": [
        {
          "output_type": "stream",
          "name": "stdout",
          "text": [
            "Total assignment cost is 280\n"
          ]
        }
      ]
    },
    {
      "cell_type": "markdown",
      "source": [
        "QUESTION 2"
      ],
      "metadata": {
        "id": "mW_APqAVAiKC"
      }
    },
    {
      "cell_type": "markdown",
      "source": [
        "A department has five employees with five jobs to be performed. The time(in hours) each men will take to perform each job is given in the effectiveness matrix.\n",
        "\n",
        "I\tII\tIII\tIV\tV\n",
        "A\t10\t5\t13\t15\t16\n",
        "B\t3\t9\t18\t13\t6\n",
        "C\t10\t7\t2\t2\t2\n",
        "D\t7\t11\t9\t7\t12\n",
        "E\t7\t9\t10\t4\t12\n"
      ],
      "metadata": {
        "id": "9MYD-jdXAkOT"
      }
    },
    {
      "cell_type": "code",
      "source": [
        "cost_matrix1 = np.array([[10, 5, 13, 15, 16], [3, 9, 18, 13, 6], [10, 7, 2, 2, 2], [7, 11, 9, 7, 12], [7, 9, 10, 4 , 12]])\n",
        "row_ind1, col_ind1 = linear_sum_assignment(cost_matrix1)\n",
        "opt_ass1 = col_ind1\n",
        "tc1 = cost_matrix1[row_ind1, col_ind1].sum()\n",
        "print('Total assignment cost is %d' %tc1)"
      ],
      "metadata": {
        "colab": {
          "base_uri": "https://localhost:8080/"
        },
        "id": "ai-wgOBMAgAy",
        "outputId": "d1c74a8a-59c0-4b16-d16f-6bcf9a1468db"
      },
      "execution_count": 3,
      "outputs": [
        {
          "output_type": "stream",
          "name": "stdout",
          "text": [
            "Total assignment cost is 23\n"
          ]
        }
      ]
    },
    {
      "cell_type": "code",
      "source": [
        ""
      ],
      "metadata": {
        "id": "OF-iAPzmAxZK"
      },
      "execution_count": null,
      "outputs": []
    }
  ]
}