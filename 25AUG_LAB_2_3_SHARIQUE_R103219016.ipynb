{
  "nbformat": 4,
  "nbformat_minor": 0,
  "metadata": {
    "colab": {
      "name": "25AUG_LAB 2_3_SHARIQUE_R103219016.ipynb",
      "provenance": [],
      "collapsed_sections": [],
      "include_colab_link": true
    },
    "kernelspec": {
      "name": "python3",
      "display_name": "Python 3"
    },
    "language_info": {
      "name": "python"
    }
  },
  "cells": [
    {
      "cell_type": "markdown",
      "metadata": {
        "id": "view-in-github",
        "colab_type": "text"
      },
      "source": [
        "<a href=\"https://colab.research.google.com/github/shariqueahmadkhan/Operation-Research-lab/blob/main/25AUG_LAB_2_3_SHARIQUE_R103219016.ipynb\" target=\"_parent\"><img src=\"https://colab.research.google.com/assets/colab-badge.svg\" alt=\"Open In Colab\"/></a>"
      ]
    },
    {
      "cell_type": "markdown",
      "metadata": {
        "id": "Iw7Sb5vzVoY5"
      },
      "source": [
        "# **Question 1**"
      ]
    },
    {
      "cell_type": "code",
      "metadata": {
        "id": "Vdr6FZIgVNke"
      },
      "source": [
        "from scipy.optimize import linprog"
      ],
      "execution_count": null,
      "outputs": []
    },
    {
      "cell_type": "code",
      "metadata": {
        "colab": {
          "base_uri": "https://localhost:8080/"
        },
        "id": "PTR6bQ7cV5r3",
        "outputId": "5acfdaa6-86f8-43d2-fa49-ae79753b3713"
      },
      "source": [
        "obj = [-40, -35]\n",
        "lhs_ineq = [[ 2,  3],[4,  3]]\n",
        "rhs_ineq = [60, 96]\n",
        "bnd = [(0, float(\"inf\")), (0, float(\"inf\"))]\n",
        "opt = linprog(c=obj, A_ub=lhs_ineq, b_ub=rhs_ineq, bounds=bnd, method=\"revised simplex\")\n",
        "opt"
      ],
      "execution_count": null,
      "outputs": [
        {
          "output_type": "execute_result",
          "data": {
            "text/plain": [
              "     con: array([], dtype=float64)\n",
              "     fun: -1000.0\n",
              " message: 'Optimization terminated successfully.'\n",
              "     nit: 2\n",
              "   slack: array([0., 0.])\n",
              "  status: 0\n",
              " success: True\n",
              "       x: array([18.,  8.])"
            ]
          },
          "metadata": {},
          "execution_count": 8
        }
      ]
    },
    {
      "cell_type": "markdown",
      "metadata": {
        "id": "CH89Pi73ZIuv"
      },
      "source": [
        "# **Question 2**"
      ]
    },
    {
      "cell_type": "code",
      "metadata": {
        "colab": {
          "base_uri": "https://localhost:8080/"
        },
        "id": "qFwkgw07Xh8c",
        "outputId": "a14f66a6-d4c2-4492-bba1-4d34486f76a4"
      },
      "source": [
        "obj1 = [40, 24]\n",
        "lhs_ineq1 = [[ -20,  -50],[-80,  -50]]\n",
        "rhs_ineq1 = [-4800, -7200]\n",
        "bnd1 = [(0, float(\"inf\")), (0, float(\"inf\"))]\n",
        "opt1 = linprog(c=obj1, A_ub=lhs_ineq1, b_ub=rhs_ineq1, bounds=bnd1, method=\"revised simplex\")\n",
        "opt1"
      ],
      "execution_count": null,
      "outputs": [
        {
          "output_type": "execute_result",
          "data": {
            "text/plain": [
              "     con: array([], dtype=float64)\n",
              "     fun: 3456.0\n",
              " message: 'Optimization terminated successfully.'\n",
              "     nit: 3\n",
              "   slack: array([2400.,    0.])\n",
              "  status: 0\n",
              " success: True\n",
              "       x: array([  0., 144.])"
            ]
          },
          "metadata": {},
          "execution_count": 9
        }
      ]
    },
    {
      "cell_type": "markdown",
      "metadata": {
        "id": "fn8FPlgUhEud"
      },
      "source": [
        "# **Question 3**"
      ]
    },
    {
      "cell_type": "code",
      "metadata": {
        "colab": {
          "base_uri": "https://localhost:8080/"
        },
        "id": "9zs-PAz-g02e",
        "outputId": "15110e91-3af2-423f-cee3-f5597a15f6f5"
      },
      "source": [
        "obj2 = [-5, -2]\n",
        "lhs_ineq2 = [[ 10,  2],[1,  0.5]]\n",
        "rhs_ineq2 = [2100, 600]\n",
        "bnd2 = [(0, float(\"inf\")), (800, float(\"inf\"))]\n",
        "opt2 = linprog(c=obj2, A_ub=lhs_ineq2, b_ub=rhs_ineq2, bounds=bnd2, method=\"revised simplex\")\n",
        "opt2"
      ],
      "execution_count": null,
      "outputs": [
        {
          "output_type": "execute_result",
          "data": {
            "text/plain": [
              "     con: array([], dtype=float64)\n",
              "     fun: -2100.0\n",
              " message: 'Optimization terminated successfully.'\n",
              "     nit: 2\n",
              "   slack: array([ 0., 75.])\n",
              "  status: 0\n",
              " success: True\n",
              "       x: array([   0., 1050.])"
            ]
          },
          "metadata": {},
          "execution_count": 10
        }
      ]
    },
    {
      "cell_type": "markdown",
      "metadata": {
        "id": "_x8wvEsZlGF9"
      },
      "source": [
        "# **Question 4**"
      ]
    },
    {
      "cell_type": "code",
      "metadata": {
        "colab": {
          "base_uri": "https://localhost:8080/"
        },
        "id": "3evMKOh_kLHN",
        "outputId": "ff4b07e3-e7b6-476c-eb63-64294691e5c8"
      },
      "source": [
        "obj3 = [-60, -40]\n",
        "lhs_ineq3 = [[ 2,  1]]\n",
        "rhs_ineq3 = [60]\n",
        "bnd3 = [(0, 25), (0, 35)]\n",
        "opt3 = linprog(c=obj3, A_ub=lhs_ineq3, b_ub=rhs_ineq3, bounds=bnd3, method=\"revised simplex\")\n",
        "opt3"
      ],
      "execution_count": null,
      "outputs": [
        {
          "output_type": "execute_result",
          "data": {
            "text/plain": [
              "     con: array([], dtype=float64)\n",
              "     fun: -2150.0\n",
              " message: 'Optimization terminated successfully.'\n",
              "     nit: 3\n",
              "   slack: array([0.])\n",
              "  status: 0\n",
              " success: True\n",
              "       x: array([12.5, 35. ])"
            ]
          },
          "metadata": {},
          "execution_count": 11
        }
      ]
    },
    {
      "cell_type": "markdown",
      "metadata": {
        "id": "otKk1iMrmtOy"
      },
      "source": [
        "# **Question 5**"
      ]
    },
    {
      "cell_type": "code",
      "metadata": {
        "id": "24TVVfyumfmJ",
        "colab": {
          "base_uri": "https://localhost:8080/"
        },
        "outputId": "f1520aae-daf3-4510-f71c-7e3eecc25f29"
      },
      "source": [
        "obj4 = [20, 10]\n",
        "lhs_ineq4 = [[ 1,  2],[-3,  -1], [-4,  -3]]\n",
        "rhs_ineq4 = [40, -30, -60]\n",
        "bnd4 = [(0, float(\"inf\")), (0, float(\"inf\"))]\n",
        "opt4 = linprog(c=obj4, A_ub=lhs_ineq4, b_ub=rhs_ineq4, bounds=bnd4, method=\"revised simplex\")\n",
        "opt4"
      ],
      "execution_count": null,
      "outputs": [
        {
          "output_type": "execute_result",
          "data": {
            "text/plain": [
              "     con: array([], dtype=float64)\n",
              "     fun: 240.0\n",
              " message: 'Optimization terminated successfully.'\n",
              "     nit: 2\n",
              "   slack: array([10.,  0.,  0.])\n",
              "  status: 0\n",
              " success: True\n",
              "       x: array([ 6., 12.])"
            ]
          },
          "metadata": {},
          "execution_count": 12
        }
      ]
    },
    {
      "cell_type": "markdown",
      "metadata": {
        "id": "zt27bAaemz1D"
      },
      "source": [
        "# **Question 6**"
      ]
    },
    {
      "cell_type": "code",
      "metadata": {
        "colab": {
          "base_uri": "https://localhost:8080/"
        },
        "id": "2nGp1JuTm209",
        "outputId": "66192781-d726-46cc-dae4-b2b8b0258aba"
      },
      "source": [
        "obj5 = [-1, -1, -3]\n",
        "lhs_ineq5 = [[ 3,  2, 1],[2, 1, 2]]\n",
        "rhs_ineq5 = [300, 200]\n",
        "bnd5 = [(0, float(\"inf\")), (0, float(\"inf\")),  (0, float(\"inf\"))]\n",
        "opt5 = linprog(c=obj5, A_ub=lhs_ineq5, b_ub=rhs_ineq5, bounds=bnd5, method=\"revised simplex\")\n",
        "opt5"
      ],
      "execution_count": null,
      "outputs": [
        {
          "output_type": "execute_result",
          "data": {
            "text/plain": [
              "     con: array([], dtype=float64)\n",
              "     fun: -300.0\n",
              " message: 'Optimization terminated successfully.'\n",
              "     nit: 1\n",
              "   slack: array([200.,   0.])\n",
              "  status: 0\n",
              " success: True\n",
              "       x: array([  0.,   0., 100.])"
            ]
          },
          "metadata": {},
          "execution_count": 13
        }
      ]
    },
    {
      "cell_type": "code",
      "metadata": {
        "id": "hXawvwSE5ZP3"
      },
      "source": [
        ""
      ],
      "execution_count": null,
      "outputs": []
    }
  ]
}