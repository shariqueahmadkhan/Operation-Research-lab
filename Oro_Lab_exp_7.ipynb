{
  "nbformat": 4,
  "nbformat_minor": 0,
  "metadata": {
    "colab": {
      "name": "Oro Lab exp 7 ",
      "provenance": [],
      "authorship_tag": "ABX9TyNOeTzNe7QtkanFww/z8OHn",
      "include_colab_link": true
    },
    "kernelspec": {
      "name": "python3",
      "display_name": "Python 3"
    },
    "language_info": {
      "name": "python"
    }
  },
  "cells": [
    {
      "cell_type": "markdown",
      "metadata": {
        "id": "view-in-github",
        "colab_type": "text"
      },
      "source": [
        "<a href=\"https://colab.research.google.com/github/shariqueahmadkhan/Operation-Research-lab/blob/main/Oro_Lab_exp_7.ipynb\" target=\"_parent\"><img src=\"https://colab.research.google.com/assets/colab-badge.svg\" alt=\"Open In Colab\"/></a>"
      ]
    },
    {
      "cell_type": "code",
      "execution_count": 1,
      "metadata": {
        "id": "3jb-8vGk6PHd"
      },
      "outputs": [],
      "source": [
        "from scipy.optimize import linprog"
      ]
    },
    {
      "cell_type": "markdown",
      "source": [
        "QUESTION 1"
      ],
      "metadata": {
        "id": "K3CmO_Cs6Zzr"
      }
    },
    {
      "cell_type": "code",
      "source": [
        "obj = [-310 ,-310, -310, -380, -380, -380, -350, -350, -350, -285, -285, -285]\n",
        "lhs_ub = [[1, 1, 1, 0, 0, 0, 0, 0, 0, 0, 0, 0],[0, 0, 0, 1, 1, 1, 0, 0, 0, 0, 0, 0],[0, 0, 0, 0, 0, 0, 1, 1, 1, 0, 0, 0],[0, 0, 0, 0, 0, 0, 0, 0, 0, 1, 1, 1],\n",
        "          [1, 0, 0, 1, 0, 0, 1, 0, 0, 1, 0, 0],[0, 1, 0, 0, 1, 0, 0, 1, 0, 0, 1, 0],[0, 0, 1, 0, 0, 1, 0, 0, 1, 0, 0, 1,],\n",
        "          [480, 0, 0, 650, 0, 0, 580, 0, 0, 390, 0, 0],[0, 480, 0, 0, 650, 0, 0, 580, 0, 0, 390, 0],[0, 0, 480, 0, 0, 650, 0, 0, 580, 0, 0, 390]]\n",
        "lhs_eq = [[0.1, -0.062, 0, 0.1, -0.062, 0, 0.1, -0.062, 0, 0.1, -0.062, 0],[0.1, 0, -0.12, 0.1, 0, -0.12, 0.1, 0, -0.12, 0.1, 0, -0.12]]\n",
        "rhs_ub = [18, 15, 23, 12, 10, 16, 8, 6800, 8700, 5300]\n",
        "rhs_eq = [0,0]\n",
        "bnd = [(0, float(\"inf\")), (0, float(\"inf\")), (0, float(\"inf\")), (0, float(\"inf\")), (0, float(\"inf\")), (0, float(\"inf\")), (0, float(\"inf\")), (0, float(\"inf\")), (0, float(\"inf\")), (0, float(\"inf\")), (0, float(\"inf\")), (0, float(\"inf\"))]\n",
        "opt = linprog(c=obj, A_ub=lhs_ub, b_ub=rhs_ub, A_eq=lhs_eq, b_eq=rhs_eq, bounds=bnd, method=\"revised simplex\")\n",
        "opt"
      ],
      "metadata": {
        "colab": {
          "base_uri": "https://localhost:8080/"
        },
        "id": "_feiO0ll6TbJ",
        "outputId": "752253d3-514d-43d5-9491-0f08978e9792"
      },
      "execution_count": 2,
      "outputs": [
        {
          "output_type": "execute_result",
          "data": {
            "text/plain": [
              "     con: array([0.00000000e+00, 1.66533454e-16])\n",
              "     fun: -11933.34465195246\n",
              " message: 'Optimization terminated successfully.'\n",
              "     nit: 10\n",
              "   slack: array([ 1.80000000e+01, -1.77635684e-15,  6.39320883e+00,  1.05229202e+01,\n",
              "        4.00000000e-01,  5.16129032e-01,  0.00000000e+00,  7.42000000e+02,\n",
              "        0.00000000e+00,  1.00000000e+02])\n",
              "  status: 0\n",
              " success: True\n",
              "       x: array([ 0.        ,  0.        ,  0.        ,  7.        ,  0.        ,\n",
              "        8.        ,  2.6       , 14.00679117,  0.        ,  0.        ,\n",
              "        1.4770798 ,  0.        ])"
            ]
          },
          "metadata": {},
          "execution_count": 2
        }
      ]
    },
    {
      "cell_type": "code",
      "source": [
        ""
      ],
      "metadata": {
        "id": "_E7qiWsU6fxv"
      },
      "execution_count": null,
      "outputs": []
    },
    {
      "cell_type": "markdown",
      "source": [
        "QUESTION 2"
      ],
      "metadata": {
        "id": "IbATGARj6iHG"
      }
    },
    {
      "cell_type": "code",
      "source": [
        "obj1 = [-5 ,-4]\n",
        "lhs_eq1 = [[6, 4],[1, 2],[-1,1],[0,1]]\n",
        "rhs_eq1 = [24, 6, 1, 2]\n",
        "bnd1 = [(0, float(\"inf\")), (0, float(\"inf\"))]\n",
        "opt1 = linprog(c=obj1, A_ub=lhs_eq1, b_ub=rhs_eq1, bounds=bnd1, method=\"revised simplex\")\n",
        "opt1"
      ],
      "metadata": {
        "colab": {
          "base_uri": "https://localhost:8080/"
        },
        "id": "VB08nuYc6lqK",
        "outputId": "6c0c8a08-d9e8-4c83-a689-0af830353a18"
      },
      "execution_count": 3,
      "outputs": [
        {
          "output_type": "execute_result",
          "data": {
            "text/plain": [
              "     con: array([], dtype=float64)\n",
              "     fun: -21.0\n",
              " message: 'Optimization terminated successfully.'\n",
              "     nit: 2\n",
              "   slack: array([0. , 0. , 2.5, 0.5])\n",
              "  status: 0\n",
              " success: True\n",
              "       x: array([3. , 1.5])"
            ]
          },
          "metadata": {},
          "execution_count": 3
        }
      ]
    },
    {
      "cell_type": "code",
      "source": [
        ""
      ],
      "metadata": {
        "id": "Nr6tboGF6o3C"
      },
      "execution_count": null,
      "outputs": []
    }
  ]
}