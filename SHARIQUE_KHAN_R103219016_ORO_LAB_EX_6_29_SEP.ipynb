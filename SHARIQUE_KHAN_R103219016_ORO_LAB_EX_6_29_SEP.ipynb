{
  "nbformat": 4,
  "nbformat_minor": 0,
  "metadata": {
    "colab": {
      "name": "SHARIQUE KHAN_R103219016_ORO LAB EX 6_29 SEP.ipynb",
      "provenance": [],
      "authorship_tag": "ABX9TyPdVdp6D28ujdMFQLHYMVVk",
      "include_colab_link": true
    },
    "kernelspec": {
      "name": "python3",
      "display_name": "Python 3"
    },
    "language_info": {
      "name": "python"
    }
  },
  "cells": [
    {
      "cell_type": "markdown",
      "metadata": {
        "id": "view-in-github",
        "colab_type": "text"
      },
      "source": [
        "<a href=\"https://colab.research.google.com/github/shariqueahmadkhan/Operation-Research-lab/blob/main/SHARIQUE_KHAN_R103219016_ORO_LAB_EX_6_29_SEP.ipynb\" target=\"_parent\"><img src=\"https://colab.research.google.com/assets/colab-badge.svg\" alt=\"Open In Colab\"/></a>"
      ]
    },
    {
      "cell_type": "markdown",
      "metadata": {
        "id": "kDvPlp_rN_6X"
      },
      "source": [
        "ANS-1\n"
      ]
    },
    {
      "cell_type": "code",
      "metadata": {
        "id": "k9o7VhKkN-ig"
      },
      "source": [
        "from scipy.optimize import linprog\n",
        "import time"
      ],
      "execution_count": 1,
      "outputs": []
    },
    {
      "cell_type": "code",
      "metadata": {
        "colab": {
          "base_uri": "https://localhost:8080/"
        },
        "id": "MVMd_H3BNvAG",
        "outputId": "808c725d-e631-4f23-f899-bb048b506f68"
      },
      "source": [
        "c = [-40, -50]\n",
        "A = [[1, 1],[3,4],[0,1]]\n",
        "b = [50,180,40]\n",
        "x1_bnds = (0, None)\n",
        "x2_bnds = (0, None)\n",
        "\n",
        "start_time = time.time()\n",
        "res = linprog(c, A,  b, bounds=(x1_bnds, x2_bnds),method = 'revised simplex')\n",
        "print(\"--- %s seconds ---\" % (time.time() - start_time))\n",
        "print(res)"
      ],
      "execution_count": 2,
      "outputs": [
        {
          "output_type": "stream",
          "name": "stdout",
          "text": [
            "--- 0.03800320625305176 seconds ---\n",
            "     con: array([], dtype=float64)\n",
            "     fun: -2300.0\n",
            " message: 'Optimization terminated successfully.'\n",
            "     nit: 3\n",
            "   slack: array([ 0.,  0., 10.])\n",
            "  status: 0\n",
            " success: True\n",
            "       x: array([20., 30.])\n"
          ]
        }
      ]
    },
    {
      "cell_type": "markdown",
      "metadata": {
        "id": "C_aIQ_nAOXgN"
      },
      "source": [
        "ANS-2"
      ]
    },
    {
      "cell_type": "code",
      "metadata": {
        "id": "H1pSyEemORuN"
      },
      "source": [
        "import cvxpy as cp"
      ],
      "execution_count": 3,
      "outputs": []
    },
    {
      "cell_type": "code",
      "metadata": {
        "colab": {
          "base_uri": "https://localhost:8080/"
        },
        "id": "u5528lDnOdHe",
        "outputId": "20131c48-dbae-415d-a5c3-fd72709248e7"
      },
      "source": [
        "x1 = cp.Variable(integer=True)\n",
        "x2 = cp.Variable(integer=True)\n",
        "x3 = cp.Variable(integer=True)\n",
        "y1 = cp.Variable(integer=True)\n",
        "y2 = cp.Variable(integer=True)\n",
        "y3 = cp.Variable(integer=True)\n",
        "\n",
        "\n",
        "constraints = [x1+x2+x3+y1+y2+y3==6000,\n",
        "               x1+y1>=1000,\n",
        "               x1+y1+x2+y2>=4000,\n",
        "               x1<=1500,\n",
        "               x2<=1500,\n",
        "               x3<=1500,\n",
        "               y1<=750,\n",
        "               y2<=750,\n",
        "               y3<=750]\n",
        "\n",
        "obj = cp.Minimize(5*x1+4*x2+3*x3+7*y1+6*y2+5*y3-5000)\n",
        "\n",
        "prob = cp.Problem(obj, constraints)\n",
        "prob.solve()\n",
        "\n",
        "print(\"x1:\", x1.value)\n",
        "print(\"x2:\", x2.value)  \n",
        "print(\"x3:\", x3.value)\n",
        "print(\"y1:\", y1.value)\n",
        "print(\"y2:\", y2.value)\n",
        "print(\"y3:\", y3.value)\n",
        "print(\"obj:\",prob.value)"
      ],
      "execution_count": 4,
      "outputs": [
        {
          "output_type": "stream",
          "name": "stdout",
          "text": [
            "x1: 1500.0\n",
            "x2: 1500.0\n",
            "x3: 1500.0\n",
            "y1: 250.0\n",
            "y2: 750.0\n",
            "y3: 500.0\n",
            "obj: 21750.0\n"
          ]
        }
      ]
    },
    {
      "cell_type": "markdown",
      "metadata": {
        "id": "sdiSyVY_OmX1"
      },
      "source": [
        "ANS-3"
      ]
    },
    {
      "cell_type": "code",
      "metadata": {
        "colab": {
          "base_uri": "https://localhost:8080/"
        },
        "id": "_fOSpy6uOikG",
        "outputId": "5572e33d-09d4-443a-9393-df302eab47cf"
      },
      "source": [
        "obj = [-4, -3]\n",
        "lhs_ineq = [[2, 1],[1, 1]]\n",
        "rhs_ineq = [1000, 800]\n",
        "bnd = [(0, 400), (0, 700)]\n",
        "opt = linprog(c=obj, A_ub=lhs_ineq, b_ub=rhs_ineq, bounds=bnd, method=\"revised simplex\")\n",
        "opt"
      ],
      "execution_count": 5,
      "outputs": [
        {
          "output_type": "execute_result",
          "data": {
            "text/plain": [
              "     con: array([], dtype=float64)\n",
              "     fun: -2600.0\n",
              " message: 'Optimization terminated successfully.'\n",
              "     nit: 3\n",
              "   slack: array([0., 0.])\n",
              "  status: 0\n",
              " success: True\n",
              "       x: array([200., 600.])"
            ]
          },
          "metadata": {},
          "execution_count": 5
        }
      ]
    },
    {
      "cell_type": "code",
      "metadata": {
        "id": "t39Yrp62OsTb"
      },
      "source": [
        ""
      ],
      "execution_count": null,
      "outputs": []
    }
  ]
}