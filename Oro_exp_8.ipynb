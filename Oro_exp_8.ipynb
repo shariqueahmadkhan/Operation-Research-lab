{
  "nbformat": 4,
  "nbformat_minor": 0,
  "metadata": {
    "colab": {
      "name": "Oro exp 8",
      "provenance": [],
      "authorship_tag": "ABX9TyM+wUXjMQXUYxTFsqchgXfh",
      "include_colab_link": true
    },
    "kernelspec": {
      "name": "python3",
      "display_name": "Python 3"
    },
    "language_info": {
      "name": "python"
    }
  },
  "cells": [
    {
      "cell_type": "markdown",
      "metadata": {
        "id": "view-in-github",
        "colab_type": "text"
      },
      "source": [
        "<a href=\"https://colab.research.google.com/github/shariqueahmadkhan/Operation-Research-lab/blob/main/Oro_exp_8.ipynb\" target=\"_parent\"><img src=\"https://colab.research.google.com/assets/colab-badge.svg\" alt=\"Open In Colab\"/></a>"
      ]
    },
    {
      "cell_type": "code",
      "execution_count": 2,
      "metadata": {
        "id": "aPccMFA89JHI"
      },
      "outputs": [],
      "source": [
        "from scipy.optimize import linprog"
      ]
    },
    {
      "cell_type": "markdown",
      "source": [
        "QUESTION 1"
      ],
      "metadata": {
        "id": "yhAYsEK59UJ-"
      }
    },
    {
      "cell_type": "code",
      "source": [
        "obj = [1 ,1]\n",
        "lhs_eq = [[1, 1],[3, -1]]\n",
        "rhs_eq = [1,-3]\n",
        "bnd = [(0, float(\"inf\")), (0, float(\"inf\"))]\n",
        "opt = linprog(c=obj, A_ub=lhs_eq, b_ub=rhs_eq, bounds=bnd, method=\"revised simplex\")\n",
        "opt"
      ],
      "metadata": {
        "colab": {
          "base_uri": "https://localhost:8080/"
        },
        "id": "T1gx2M_D9SYM",
        "outputId": "d921ddc5-50aa-4821-dd15-21a6ee0de013"
      },
      "execution_count": 3,
      "outputs": [
        {
          "output_type": "execute_result",
          "data": {
            "text/plain": [
              "     con: array([], dtype=float64)\n",
              "     fun: 1.0\n",
              " message: 'The problem appears infeasible, as the phase one auxiliary problem terminated successfully with a residual of 2.0e+00, greater than the tolerance 1e-12 required for the solution to be considered feasible. Consider increasing the tolerance to be greater than 2.0e+00. If this tolerance is unnaceptably large, the problem is likely infeasible.'\n",
              "     nit: 1\n",
              "   slack: array([ 0., -2.])\n",
              "  status: 2\n",
              " success: False\n",
              "       x: array([0., 1.])"
            ]
          },
          "metadata": {},
          "execution_count": 3
        }
      ]
    },
    {
      "cell_type": "markdown",
      "source": [
        "QUESTION 2"
      ],
      "metadata": {
        "id": "hByO7WbU9ceT"
      }
    },
    {
      "cell_type": "code",
      "source": [
        "obj = [-2 ,-4]\n",
        "lhs_eq = [[1, 2],[1, 1]]\n",
        "rhs_eq = [5,4]\n",
        "bnd = [(0, float(\"inf\")), (0, float(\"inf\"))]\n",
        "opt = linprog(c=obj, A_ub=lhs_eq, b_ub=rhs_eq, bounds=bnd, method=\"revised simplex\")\n",
        "opt"
      ],
      "metadata": {
        "colab": {
          "base_uri": "https://localhost:8080/"
        },
        "id": "azUtMCAO9a4Q",
        "outputId": "f518034d-81ae-41eb-b572-b7f6a4ed6f98"
      },
      "execution_count": 4,
      "outputs": [
        {
          "output_type": "execute_result",
          "data": {
            "text/plain": [
              "     con: array([], dtype=float64)\n",
              "     fun: -10.0\n",
              " message: 'Optimization terminated successfully.'\n",
              "     nit: 1\n",
              "   slack: array([0. , 1.5])\n",
              "  status: 0\n",
              " success: True\n",
              "       x: array([0. , 2.5])"
            ]
          },
          "metadata": {},
          "execution_count": 4
        }
      ]
    },
    {
      "cell_type": "markdown",
      "source": [
        "QUESTION 3"
      ],
      "metadata": {
        "id": "U4H-o_6y9ojW"
      }
    },
    {
      "cell_type": "code",
      "source": [
        "obj = [-2 ,-1]\n",
        "lhs_eq = [[1, -1],[2, 0]]\n",
        "rhs_eq = [10,40]\n",
        "bnd = [(0, float(\"inf\")), (0, float(\"inf\"))]\n",
        "opt = linprog(c=obj, A_ub=lhs_eq, b_ub=rhs_eq, bounds=bnd, method=\"revised simplex\")\n",
        "opt"
      ],
      "metadata": {
        "colab": {
          "base_uri": "https://localhost:8080/"
        },
        "id": "pLZVDU-E9iLS",
        "outputId": "a1e62821-4bd0-43f4-fa59-06bc658d76fa"
      },
      "execution_count": 5,
      "outputs": [
        {
          "output_type": "execute_result",
          "data": {
            "text/plain": [
              "     con: array([], dtype=float64)\n",
              "     fun: -50.0\n",
              " message: 'The problem is unbounded, as the simplex algorithm found a basic feasible solution from which there is a direction with negative reduced cost in which all decision variables increase.'\n",
              "     nit: 2\n",
              "   slack: array([0., 0.])\n",
              "  status: 3\n",
              " success: False\n",
              "       x: array([20., 10.])"
            ]
          },
          "metadata": {},
          "execution_count": 5
        }
      ]
    },
    {
      "cell_type": "markdown",
      "source": [
        "QUESTION 4"
      ],
      "metadata": {
        "id": "uB8SAI-L9xrD"
      }
    },
    {
      "cell_type": "code",
      "source": [
        "obj = [3 ,2]\n",
        "lhs_eq = [[2, 1],[-3, -4]]\n",
        "rhs_eq = [2,-12]\n",
        "bnd = [(0, float(\"inf\")), (0, float(\"inf\"))]\n",
        "opt = linprog(c=obj, A_ub=lhs_eq, b_ub=rhs_eq, bounds=bnd, method=\"revised simplex\")\n",
        "opt"
      ],
      "metadata": {
        "colab": {
          "base_uri": "https://localhost:8080/"
        },
        "id": "9ixez2Yv9vll",
        "outputId": "b01584a6-c7ef-4402-b801-b50bec01d821"
      },
      "execution_count": 6,
      "outputs": [
        {
          "output_type": "execute_result",
          "data": {
            "text/plain": [
              "     con: array([], dtype=float64)\n",
              "     fun: 4.0\n",
              " message: 'The problem appears infeasible, as the phase one auxiliary problem terminated successfully with a residual of 4.0e+00, greater than the tolerance 1e-12 required for the solution to be considered feasible. Consider increasing the tolerance to be greater than 4.0e+00. If this tolerance is unnaceptably large, the problem is likely infeasible.'\n",
              "     nit: 1\n",
              "   slack: array([ 0., -4.])\n",
              "  status: 2\n",
              " success: False\n",
              "       x: array([0., 2.])"
            ]
          },
          "metadata": {},
          "execution_count": 6
        }
      ]
    },
    {
      "cell_type": "code",
      "source": [
        ""
      ],
      "metadata": {
        "id": "uDKJjj2391J4"
      },
      "execution_count": null,
      "outputs": []
    }
  ]
}