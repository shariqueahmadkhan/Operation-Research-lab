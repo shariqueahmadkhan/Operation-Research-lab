{
  "nbformat": 4,
  "nbformat_minor": 0,
  "metadata": {
    "colab": {
      "name": "SHARIQUE KHAN _EXP 5_R103219016",
      "provenance": [],
      "authorship_tag": "ABX9TyMivkLnKwhkMpR0qsjq5fvX",
      "include_colab_link": true
    },
    "kernelspec": {
      "name": "python3",
      "display_name": "Python 3"
    },
    "language_info": {
      "name": "python"
    }
  },
  "cells": [
    {
      "cell_type": "markdown",
      "metadata": {
        "id": "view-in-github",
        "colab_type": "text"
      },
      "source": [
        "<a href=\"https://colab.research.google.com/github/shariqueahmadkhan/Operation-Research-lab/blob/main/SHARIQUE_KHAN__EXP_5_R103219016.ipynb\" target=\"_parent\"><img src=\"https://colab.research.google.com/assets/colab-badge.svg\" alt=\"Open In Colab\"/></a>"
      ]
    },
    {
      "cell_type": "code",
      "metadata": {
        "id": "LvODduR4i5mn"
      },
      "source": [
        "from scipy.optimize import linprog\n",
        "import time"
      ],
      "execution_count": 2,
      "outputs": []
    },
    {
      "cell_type": "markdown",
      "metadata": {
        "id": "Eghh54E2jNVB"
      },
      "source": [
        "ANSWER 1"
      ]
    },
    {
      "cell_type": "code",
      "metadata": {
        "colab": {
          "base_uri": "https://localhost:8080/"
        },
        "id": "qOTmPsvnjCRB",
        "outputId": "a1150c19-0c6f-4d6f-a788-67e20950acaa"
      },
      "source": [
        "c = [-3, -2, -3]\n",
        "A = [[2, 1, 1], [ 1, 3, 1], [3, 4, 2]]\n",
        "b = [2, 6, 8]\n",
        "x1_bnds = (0, None)\n",
        "x2_bnds = (0, None)\n",
        "x3_bnds = (0, None)\n",
        "\n",
        "start_time = time.time()\n",
        "res = linprog(c, A_eq = A, b_eq =  b, bounds=(x1_bnds, x2_bnds, x3_bnds),method = 'revised simplex')\n",
        "print(\"--- %s seconds ---\" % (time.time() - start_time))\n",
        "print(res)"
      ],
      "execution_count": 3,
      "outputs": [
        {
          "output_type": "stream",
          "name": "stdout",
          "text": [
            "--- 0.10740447044372559 seconds ---\n",
            "     con: array([0., 0., 0.])\n",
            "     fun: -4.0\n",
            " message: 'Optimization terminated successfully.'\n",
            "     nit: 3\n",
            "   slack: array([], dtype=float64)\n",
            "  status: 0\n",
            " success: True\n",
            "       x: array([0., 2., 0.])\n"
          ]
        },
        {
          "output_type": "stream",
          "name": "stderr",
          "text": [
            "/usr/local/lib/python3.7/dist-packages/ipykernel_launcher.py:9: OptimizeWarning: A_eq does not appear to be of full row rank. To improve performance, check the problem formulation for redundant equality constraints.\n",
            "  if __name__ == '__main__':\n"
          ]
        }
      ]
    },
    {
      "cell_type": "markdown",
      "metadata": {
        "id": "Yej1A6cZjhl-"
      },
      "source": [
        "ANSWER 2"
      ]
    },
    {
      "cell_type": "code",
      "metadata": {
        "colab": {
          "base_uri": "https://localhost:8080/"
        },
        "id": "QO7rbMKPjqY5",
        "outputId": "edfdf01c-eaa2-4b9f-ea1a-57893e901042"
      },
      "source": [
        "c = [3, -4, 3]\n",
        "A = [[5, 6, 2], [ 1, -3, -5], [2, 5, -4]]\n",
        "b = [5, -8, 4]\n",
        "x1_bnds = (0, None)\n",
        "x2_bnds = (0, None)\n",
        "x3_bnds = (0, None)\n",
        "\n",
        "start_time = time.time()\n",
        "res = linprog(c, A,  b, bounds=(x1_bnds, x2_bnds, x3_bnds),method = 'revised simplex')\n",
        "print(\"--- %s seconds ---\" % (time.time() - start_time))\n",
        "print(res)\n"
      ],
      "execution_count": 4,
      "outputs": [
        {
          "output_type": "stream",
          "name": "stdout",
          "text": [
            "--- 0.0037267208099365234 seconds ---\n",
            "     con: array([], dtype=float64)\n",
            "     fun: 2.625\n",
            " message: 'Optimization terminated successfully.'\n",
            "     nit: 2\n",
            "   slack: array([0.   , 0.   , 7.625])\n",
            "  status: 0\n",
            " success: True\n",
            "       x: array([0.   , 0.375, 1.375])\n"
          ]
        }
      ]
    },
    {
      "cell_type": "markdown",
      "metadata": {
        "id": "sYHgaiBrj4Uy"
      },
      "source": [
        "ANSWER 3"
      ]
    },
    {
      "cell_type": "code",
      "metadata": {
        "colab": {
          "base_uri": "https://localhost:8080/"
        },
        "id": "9oHMverSjwWk",
        "outputId": "0e866d9d-69c2-42fe-c304-dd5ce8d47330"
      },
      "source": [
        "c = [-2, -4, -4, 3]\n",
        "A = [[1, 1, 1,0], [ 1, 4, 0,  1], [3, 4, 2,0]]\n",
        "b = [4, 8, 8]\n",
        "x1_bnds = (0, None)\n",
        "x2_bnds = (0, None)\n",
        "x3_bnds = (0, None)\n",
        "x4_bnds = (0, None)\n",
        "\n",
        "start_time = time.time()\n",
        "res = linprog(c, A_eq = A, b_eq =  b, bounds=(x1_bnds, x2_bnds, x3_bnds,x4_bnds),method = 'revised simplex')\n",
        "print(\"--- %s seconds ---\" % (time.time() - start_time))\n",
        "print(res)"
      ],
      "execution_count": 5,
      "outputs": [
        {
          "output_type": "stream",
          "name": "stdout",
          "text": [
            "--- 0.005224466323852539 seconds ---\n",
            "     con: array([0., 0., 0.])\n",
            "     fun: 8.0\n",
            " message: 'Optimization terminated successfully.'\n",
            "     nit: 3\n",
            "   slack: array([], dtype=float64)\n",
            "  status: 0\n",
            " success: True\n",
            "       x: array([0., 0., 4., 8.])\n"
          ]
        }
      ]
    }
  ]
}