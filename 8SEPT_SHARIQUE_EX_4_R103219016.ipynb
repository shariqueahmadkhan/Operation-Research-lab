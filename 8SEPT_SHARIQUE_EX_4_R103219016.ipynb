{
  "nbformat": 4,
  "nbformat_minor": 0,
  "metadata": {
    "colab": {
      "name": "8SEPT_SHARIQUE_EX-4_SR103219016.ipynb",
      "provenance": [],
      "authorship_tag": "ABX9TyOpp3IOZrvjy0au36nNufUb",
      "include_colab_link": true
    },
    "kernelspec": {
      "name": "python3",
      "display_name": "Python 3"
    },
    "language_info": {
      "name": "python"
    }
  },
  "cells": [
    {
      "cell_type": "markdown",
      "metadata": {
        "id": "view-in-github",
        "colab_type": "text"
      },
      "source": [
        "<a href=\"https://colab.research.google.com/github/shariqueahmadkhan/Operation-Research-lab/blob/main/8SEPT_SHARIQUE_EX_4_R103219016.ipynb\" target=\"_parent\"><img src=\"https://colab.research.google.com/assets/colab-badge.svg\" alt=\"Open In Colab\"/></a>"
      ]
    },
    {
      "cell_type": "code",
      "metadata": {
        "id": "u_jLI4uHrD3I"
      },
      "source": [
        "import cvxpy as cp"
      ],
      "execution_count": 2,
      "outputs": []
    },
    {
      "cell_type": "markdown",
      "metadata": {
        "id": "SSXouKzXrT9s"
      },
      "source": [
        "ANS1\n"
      ]
    },
    {
      "cell_type": "code",
      "metadata": {
        "colab": {
          "base_uri": "https://localhost:8080/"
        },
        "id": "qDa41m-crSpH",
        "outputId": "e431db51-b181-4c8c-f9ca-fb039198e742"
      },
      "source": [
        "x1 = cp.Variable(integer=True)\n",
        "x2 = cp.Variable(integer=True)\n",
        "\n",
        "constraints = [-x1 + (3*x2) <= 6,\n",
        "               7*x1 + x2 <= 35,\n",
        "               x1>=0,\n",
        "               x2>=0]\n",
        "\n",
        "obj = cp.Maximize((7*x1)+(10*x2))\n",
        "\n",
        "prob = cp.Problem(obj, constraints)\n",
        "prob.solve()\n",
        "\n",
        "print(\"Value of x1:\", x1.value)\n",
        "print(\"Value of x2:\", x2.value)\n",
        "print(\"Value of obj:\",prob.value)"
      ],
      "execution_count": 3,
      "outputs": [
        {
          "output_type": "stream",
          "name": "stdout",
          "text": [
            "Value of x1: 4.0\n",
            "Value of x2: 3.0\n",
            "Value of obj: 58.0\n"
          ]
        }
      ]
    },
    {
      "cell_type": "markdown",
      "metadata": {
        "id": "LhuFdXhvrfxw"
      },
      "source": [
        "ANS2"
      ]
    },
    {
      "cell_type": "code",
      "metadata": {
        "colab": {
          "base_uri": "https://localhost:8080/"
        },
        "id": "qOUE_R59rd7F",
        "outputId": "0b0877cf-5e38-40af-8d84-d1dcc0fbed3f"
      },
      "source": [
        "x1 = cp.Variable(integer=True)\n",
        "x2 = cp.Variable(integer=True)\n",
        "\n",
        "constraints1 = [x1 + x2 <= 6,\n",
        "               5*x1 + 9*x2 <= 45,\n",
        "               x1>=0,\n",
        "               x2>=0]\n",
        "\n",
        "obj1 = cp.Maximize((5*x1)+(8*x2))\n",
        "\n",
        "prob1 = cp.Problem(obj1, constraints1)\n",
        "prob1.solve()\n",
        "\n",
        "print(\"Value of x1:\", x1.value)\n",
        "print(\"Value of x2:\", x2.value)\n",
        "print(\"Value of obj:\",prob1.value)"
      ],
      "execution_count": 4,
      "outputs": [
        {
          "output_type": "stream",
          "name": "stdout",
          "text": [
            "Value of x1: 0.0\n",
            "Value of x2: 5.0\n",
            "Value of obj: 40.0\n"
          ]
        }
      ]
    },
    {
      "cell_type": "code",
      "metadata": {
        "id": "t_Z5a3mVrlWU"
      },
      "source": [
        ""
      ],
      "execution_count": null,
      "outputs": []
    }
  ]
}