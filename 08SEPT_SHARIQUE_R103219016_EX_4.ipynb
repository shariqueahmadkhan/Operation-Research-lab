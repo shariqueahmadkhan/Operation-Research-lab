{
  "nbformat": 4,
  "nbformat_minor": 0,
  "metadata": {
    "colab": {
      "name": "08SEPT_SHARIQUE_R103219016_EX 4.ipynb",
      "provenance": [],
      "authorship_tag": "ABX9TyNph/XVjVZI93bESh4jALKW",
      "include_colab_link": true
    },
    "kernelspec": {
      "name": "python3",
      "display_name": "Python 3"
    },
    "language_info": {
      "name": "python"
    }
  },
  "cells": [
    {
      "cell_type": "markdown",
      "metadata": {
        "id": "view-in-github",
        "colab_type": "text"
      },
      "source": [
        "<a href=\"https://colab.research.google.com/github/shariqueahmadkhan/Operation-Research-lab/blob/main/08SEPT_SHARIQUE_R103219016_EX_4.ipynb\" target=\"_parent\"><img src=\"https://colab.research.google.com/assets/colab-badge.svg\" alt=\"Open In Colab\"/></a>"
      ]
    },
    {
      "cell_type": "code",
      "metadata": {
        "id": "CTmXr2otZOCQ"
      },
      "source": [
        "import cvxpy as cp"
      ],
      "execution_count": null,
      "outputs": []
    },
    {
      "cell_type": "markdown",
      "metadata": {
        "id": "oMu_P1PuZ61Y"
      },
      "source": [
        "ANS-1"
      ]
    },
    {
      "cell_type": "code",
      "metadata": {
        "colab": {
          "base_uri": "https://localhost:8080/"
        },
        "id": "tX5MSpS8Zctw",
        "outputId": "6419d3bd-15a6-4956-d9f2-b8f55bfcbbd8"
      },
      "source": [
        "x1 = cp.Variable(integer=True)\n",
        "x2 = cp.Variable(integer=True)\n",
        "\n",
        "constraints = [-x1 + (3*x2) <= 6,\n",
        "               7*x1 + x2 <= 35,\n",
        "               x1>=0,\n",
        "               x2>=0]\n",
        "\n",
        "obj = cp.Maximize((7*x1)+(10*x2))\n",
        "\n",
        "prob = cp.Problem(obj, constraints)\n",
        "prob.solve()\n",
        "\n",
        "print(\"Value of x1:\", x1.value)\n",
        "print(\"Value of x2:\", x2.value)\n",
        "print(\"Value of obj:\",prob.value)"
      ],
      "execution_count": null,
      "outputs": [
        {
          "output_type": "stream",
          "name": "stdout",
          "text": [
            "Value of x1: 4.0\n",
            "Value of x2: 3.0\n",
            "Value of obj: 58.0\n"
          ]
        }
      ]
    },
    {
      "cell_type": "markdown",
      "metadata": {
        "id": "VJaVUObxZ3B9"
      },
      "source": [
        "ANS-2"
      ]
    },
    {
      "cell_type": "code",
      "metadata": {
        "colab": {
          "base_uri": "https://localhost:8080/"
        },
        "id": "WlA0cI4rZhQ3",
        "outputId": "fbdb4c47-6d5c-42ab-ff26-7eaf6bc83970"
      },
      "source": [
        "x1 = cp.Variable(integer=True)\n",
        "x2 = cp.Variable(integer=True)\n",
        "\n",
        "constraints1 = [x1 + x2 <= 6,\n",
        "               5*x1 + 9*x2 <= 45,\n",
        "               x1>=0,\n",
        "               x2>=0]\n",
        "\n",
        "obj1 = cp.Maximize((5*x1)+(8*x2))\n",
        "\n",
        "prob1 = cp.Problem(obj1, constraints1)\n",
        "prob1.solve()\n",
        "\n",
        "print(\"Value of x1:\", x1.value)\n",
        "print(\"Value of x2:\", x2.value)\n",
        "print(\"Value of obj:\",prob1.value)"
      ],
      "execution_count": null,
      "outputs": [
        {
          "output_type": "stream",
          "name": "stdout",
          "text": [
            "Value of x1: 0.0\n",
            "Value of x2: 5.0\n",
            "Value of obj: 40.0\n"
          ]
        }
      ]
    },
    {
      "cell_type": "markdown",
      "metadata": {
        "id": "B18EcMz3Zyij"
      },
      "source": [
        "ANS-3"
      ]
    },
    {
      "cell_type": "code",
      "metadata": {
        "colab": {
          "base_uri": "https://localhost:8080/"
        },
        "id": "yInv9FViZsuF",
        "outputId": "e6b71e59-ead4-48de-aa1e-219512daec00"
      },
      "source": [
        "x1 = cp.Variable(integer=True)\n",
        "x2 = cp.Variable(integer=True)\n",
        "\n",
        "constraints1 = [x1 + x2 <= 6,\n",
        "               5*x1 + 9*x2 <= 45,\n",
        "               x1>=0,\n",
        "               x2>=0]\n",
        "\n",
        "obj1 = cp.Maximize((5*x1)+(8*x2))\n",
        "\n",
        "prob1 = cp.Problem(obj1, constraints1)\n",
        "prob1.solve()\n",
        "\n",
        "print(\"Value of x1:\", x1.value)\n",
        "print(\"Value of x2:\", x2.value)\n",
        "print(\"Value of obj:\",prob1.value)"
      ],
      "execution_count": null,
      "outputs": [
        {
          "output_type": "stream",
          "name": "stdout",
          "text": [
            "Value of x1: 0.0\n",
            "Value of x2: 5.0\n",
            "Value of obj: 40.0\n"
          ]
        }
      ]
    },
    {
      "cell_type": "code",
      "metadata": {
        "id": "xecTJC0paGmM"
      },
      "source": [
        ""
      ],
      "execution_count": null,
      "outputs": []
    }
  ]
}